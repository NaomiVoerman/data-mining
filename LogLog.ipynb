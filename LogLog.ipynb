{
 "cells": [
  {
   "cell_type": "code",
   "execution_count": 58,
   "metadata": {},
   "outputs": [],
   "source": [
    "import random\n",
    "import math\n",
    "def trailing_zeroes(num, k):\n",
    "    \"\"\"Counts the number of trailing 0 bits in num.\"\"\"\n",
    "    if num == 0:\n",
    "        return 2**5#k # Assumes 32 bit integer inputs!\n",
    "    p = 0\n",
    "    while (num >> p) & 1 == 0:\n",
    "        p += 1\n",
    "    return p\n",
    "\n",
    "def estimate_cardinality_LL(stream, k):\n",
    "    num_buckets = 2 ** k\n",
    "    max_zeroes = [0] * num_buckets\n",
    "    for h in stream:\n",
    "        bucket = h & (num_buckets - 1) # Mask out the k least significant bits as bucket ID\n",
    "        bucket_hash = h >> k\n",
    "        max_zeroes[bucket] = max(max_zeroes[bucket], trailing_zeroes(bucket_hash, k))\n",
    "    \n",
    "    return 2 ** (float(sum(max_zeroes)) / num_buckets) * num_buckets * 0.79402\n",
    "\n",
    "def estimate_cardinality_HLL(stream, k):\n",
    "    num_buckets = 2 ** k\n",
    "    max_zeroes = [0] * num_buckets\n",
    "    for h in stream:\n",
    "        bucket = h & (num_buckets - 1) # Mask out the k least significant bits as bucket ID\n",
    "        bucket_hash = h >> k\n",
    "        max_zeroes[bucket] = max(max_zeroes[bucket], trailing_zeroes(bucket_hash, k)+1)\n",
    "    \n",
    "    m = num_buckets\n",
    "    if m == 16:\n",
    "        alpha = 0.673\n",
    "    elif m == 32:\n",
    "        alpha = 0.697\n",
    "    elif m == 64:\n",
    "        alpha = 0.709\n",
    "    else:\n",
    "        alpha = 0.7213/(1 + 1.079/m)\n",
    "            \n",
    "    #Cardinality\n",
    "    DV_est = alpha * m**2 * 1./sum([2**-i for i in max_zeroes])\n",
    "        \n",
    "     #Corrections:\n",
    "    if DV_est < 5/2 * m: # small range correction\n",
    "     \n",
    "        V = sum([x == 0 for x in max_zeroes])#count_of_zero_registers( registers ) # the number of registers equal to zero\n",
    "        if V == 0:  # if none of the registers are empty, use the HLL estimate\n",
    "             DV = DV_est\n",
    "        else:\n",
    "             DV = m * math.log10(m/V)  # i.e. balls and bins correction\n",
    " \n",
    "    if DV_est <= ( 1/30 * 2**32 ):  # intermediate range, no correction\n",
    "          DV = DV_est\n",
    "    if DV_est > ( 1/30 * 2**32 ):  # large range correction\n",
    "         DV = -2**32 * math.log10( 1 - DV_est/2**32)\n",
    "    \n",
    "    return DV_est"
   ]
  },
  {
   "cell_type": "code",
   "execution_count": 59,
   "metadata": {},
   "outputs": [],
   "source": [
    "\n",
    "random.seed(1943)\n",
    "#Input data\n",
    "N = 1000000\n",
    "stream1 = [random.randint(0,2**32) for i in range (N)]"
   ]
  },
  {
   "cell_type": "code",
   "execution_count": 65,
   "metadata": {},
   "outputs": [],
   "source": [
    "ks = [4,5,6,7,8,9,10,11,12,13,14,15,16]\n",
    "ms = [2**k for k in ks]\n",
    "Ns = [10**3,10**4,10**5,10**6,10**7]\n",
    "streams = [[random.randint(0,2**32) for i in range (N)] for N in Ns]"
   ]
  },
  {
   "cell_type": "code",
   "execution_count": 66,
   "metadata": {},
   "outputs": [],
   "source": [
    "card = [len(list(set(stream))) for stream in streams]\n",
    "errors = []\n",
    "for j in range(len(Ns)):\n",
    "    err_ks = [1] * len(ks)\n",
    "\n",
    "    for i in range(len(ks)):\n",
    "        card_est = estimate_cardinality_LL(streams[j],ks[i])\n",
    "    \n",
    "        err_ks[i] = abs(card_est - card[j]) / card[j]\n",
    "    errors.append(err_ks)"
   ]
  },
  {
   "cell_type": "code",
   "execution_count": 64,
   "metadata": {},
   "outputs": [
    {
     "data": {
      "text/plain": [
       "[[0.7733323773764973,\n",
       "  0.009725378501209775,\n",
       "  0.02255463638213098,\n",
       "  0.08336956521981119,\n",
       "  0.11612160139562025,\n",
       "  0.19914809453520366,\n",
       "  0.495231862284078,\n",
       "  1.2382954280929526,\n",
       "  2.858513085831723,\n",
       "  6.08613093612803,\n",
       "  12.536426068453103,\n",
       "  25.599428035691965,\n",
       "  51.59074449268188],\n",
       " [0.14237385963897414,\n",
       "  0.0705000568945141,\n",
       "  0.25933304649216116,\n",
       "  0.08803304393852558,\n",
       "  0.0705000568945141,\n",
       "  0.071950284616092,\n",
       "  0.025114366470196364,\n",
       "  0.009000147771387674,\n",
       "  0.05771495645541072,\n",
       "  0.30433915804072603,\n",
       "  0.9034374191432231,\n",
       "  2.172671611842997,\n",
       "  4.763214593743325],\n",
       " [0.295287466800689,\n",
       "  0.1056838851984033,\n",
       "  0.09864994016047858,\n",
       "  0.07113278523345434,\n",
       "  0.06355703886428003,\n",
       "  0.03263112336249192,\n",
       "  0.03231841061723899,\n",
       "  0.019816724315718747,\n",
       "  0.016887099417038552,\n",
       "  0.002289134290067741,\n",
       "  0.0037653736248648784,\n",
       "  0.02832999896798152,\n",
       "  0.20298751521831204],\n",
       " [0.03406839883551537,\n",
       "  0.2566488917240908,\n",
       "  0.020439424124070717,\n",
       "  0.1017389913578766,\n",
       "  0.03406839883551537,\n",
       "  0.04674479296430485,\n",
       "  0.03757414057036572,\n",
       "  0.0037241732918356467,\n",
       "  0.009515909923196805,\n",
       "  0.01568476743398001,\n",
       "  0.015298111844509524,\n",
       "  0.0006400930114218147,\n",
       "  0.008875479204039735]]"
      ]
     },
     "execution_count": 64,
     "metadata": {},
     "output_type": "execute_result"
    }
   ],
   "source": [
    "errors"
   ]
  }
 ],
 "metadata": {
  "kernelspec": {
   "display_name": "Python 3",
   "language": "python",
   "name": "python3"
  },
  "language_info": {
   "codemirror_mode": {
    "name": "ipython",
    "version": 3
   },
   "file_extension": ".py",
   "mimetype": "text/x-python",
   "name": "python",
   "nbconvert_exporter": "python",
   "pygments_lexer": "ipython3",
   "version": "3.6.5"
  }
 },
 "nbformat": 4,
 "nbformat_minor": 2
}
