{
 "cells": [
  {
   "cell_type": "code",
   "execution_count": 12,
   "metadata": {},
   "outputs": [],
   "source": [
    "import random\n",
    "import math\n",
    "def trailing_zeroes(num):\n",
    "    \"\"\"Counts the number of trailing 0 bits in num.\"\"\"\n",
    "    if num == 0:\n",
    "        return 2**5#L # Assumes 32 bit integer inputs!\n",
    "    p = 0\n",
    "    while (num >> p) & 1 == 0:\n",
    "        p += 1\n",
    "    return p\n",
    "\n",
    "def estimate_cardinality_LL(stream, k):\n",
    "    num_buckets = 2 ** k\n",
    "    max_zeroes = [0] * num_buckets\n",
    "    for h in stream:\n",
    "        bucket = h & (num_buckets - 1) # Mask out the k least significant bits as bucket ID\n",
    "        bucket_hash = h >> k\n",
    "        max_zeroes[bucket] = max(max_zeroes[bucket], trailing_zeroes(bucket_hash))\n",
    "    \n",
    "    return 2 ** (float(sum(max_zeroes)) / num_buckets) * num_buckets * 0.79402\n",
    "\n",
    "def estimate_cardinality_HLL(stream, k):\n",
    "    num_buckets = 2 ** k\n",
    "    max_zeroes = [0] * num_buckets\n",
    "    for h in stream:\n",
    "        bucket = h & (num_buckets - 1) # Mask out the k least significant bits as bucket ID\n",
    "        bucket_hash = h >> k\n",
    "        max_zeroes[bucket] = max(max_zeroes[bucket], trailing_zeroes(bucket_hash)+1)\n",
    "    \n",
    "    m = num_buckets\n",
    "    if m == 16:\n",
    "        alpha = 0.673\n",
    "    elif m == 32:\n",
    "        alpha = 0.697\n",
    "    elif m == 64:\n",
    "        alpha = 0.709\n",
    "    else:\n",
    "        alpha = 0.7213/(1 + 1.079/m)\n",
    "            \n",
    "    #Cardinality\n",
    "    DV_est = alpha * m**2 * 1./sum([2**-i for i in max_zeroes])\n",
    "        \n",
    "     #Corrections:\n",
    "    if DV_est < 5/2 * m: # small range correction\n",
    "     \n",
    "        V = sum([x == 0 for x in max_zeroes])#count_of_zero_registers( registers ) # the number of registers equal to zero\n",
    "        if V == 0:  # if none of the registers are empty, use the HLL estimate\n",
    "             DV = DV_est\n",
    "        else:\n",
    "             DV = m * math.log10(m/V)  # i.e. balls and bins correction\n",
    " \n",
    "    if DV_est <= ( 1/30 * 2**32 ):  # intermediate range, no correction\n",
    "          DV = DV_est\n",
    "    if DV_est > ( 1/30 * 2**32 ):  # large range correction\n",
    "         DV = -2**32 * math.log10( 1 - DV_est/2**32)\n",
    "    \n",
    "    return DV"
   ]
  },
  {
   "cell_type": "code",
   "execution_count": 13,
   "metadata": {},
   "outputs": [],
   "source": [
    "import numpy as np\n",
    "def estimate_cardinality_FM(stream, k):\n",
    "    num_bits = 32 #L\n",
    "    m = 2**k\n",
    "    bitmap = np.zeros([m, (num_bits-k)])\n",
    "    for s in range(len(stream)):\n",
    "       # s: individual hash value\n",
    "        bin_bit = \"{0:b}\".format(stream[s])\n",
    "      # determine the row index\n",
    "        rev = bin_bit[::-1]\n",
    "        idx = rev[0:k][::-1]\n",
    "        idxi = int(idx, 2)\n",
    "\n",
    "      # count trailing zeros of the remaining binary's\n",
    "      # this represents the column index.\n",
    "        end = k\n",
    "        try:\n",
    "            hashv = int(bin_bit[0:-end])\n",
    "        except ValueError:\n",
    "            hasv = 0\n",
    "        idxj = trailing_zeroes(hashv)#, num_bits)\n",
    "\n",
    "      # assign the index of the bitmap to a 1\n",
    "        bitmap[idxi, idxj] = 1\n",
    "\n",
    "    # calculate R as follows:\n",
    "    #   for every row in the bitmap:\n",
    "    #   - if it only consists of 1's:\n",
    "    #       row i = 0\n",
    "    #   - else:\n",
    "    #       give the index of where the\n",
    "    #       first zero\n",
    "\n",
    "    R = []\n",
    "    for i in range(m):\n",
    "      # check which the indexes of each individual row \n",
    "      # that is equal to zero.\n",
    "        r = np.where(bitmap[i, ] == 0)[0]\n",
    "\n",
    "        # take the smallest index\n",
    "        r_min = np.amin(r)\n",
    "        R.append(r_min)   \n",
    "\n",
    "    phi = 0.77351\n",
    "    est_count = m/phi * 2**(np.mean(R)) # Probabilistic_Counting error\n",
    "    return est_count\n"
   ]
  },
  {
   "cell_type": "code",
   "execution_count": 13,
   "metadata": {},
   "outputs": [],
   "source": [
    "\n",
    "random.seed(1943)"
   ]
  },
  {
   "cell_type": "code",
   "execution_count": 14,
   "metadata": {},
   "outputs": [],
   "source": [
    "ks = [4,5,6,7,8,9,10,11,12,13,14,15,16]\n",
    "ms = [2**k for k in ks]\n",
    "Ns = [10**3,10**4,10**5,10**6,10**7]\n",
    "streams = [[random.randint(0,2**32) for i in range (N)] for N in Ns]"
   ]
  },
  {
   "cell_type": "code",
   "execution_count": null,
   "metadata": {
    "scrolled": true
   },
   "outputs": [
    {
     "name": "stdout",
     "output_type": "stream",
     "text": [
      "\n",
      "Loop: 0 \n",
      "N:\n",
      "0  \n",
      "1  \n",
      "2  \n",
      "3  \n",
      "4  \n"
     ]
    }
   ],
   "source": [
    "random.seed(1943)\n",
    "LL = []\n",
    "HLL = []\n",
    "FM = []\n",
    "for loops in range(10): #10\n",
    "    print(\"\\nLoop:\",loops,\"\\nN:\")\n",
    "    ks = [4,5,6,7,8,9,10,11,12,13,14,15,16]\n",
    "    ms = [2**k for k in ks]\n",
    "    Ns = [10**3,10**4,10**5,10**6,5*10**6,10**7,2*10**7]\n",
    "    #streams = [[random.randint(0,2**32) for i in range (N)] for N in Ns]\n",
    "\n",
    "\n",
    "    #card = [len(list(set(stream))) for stream in streams]\n",
    "    errors_LL = []\n",
    "    errors_HLL = []\n",
    "    errors_FM = []\n",
    "    for j in range(len(Ns)):\n",
    "        print(j, \" \")\n",
    "        stream = [random.randint(0,2**32) for i in range (Ns[j])]\n",
    "        card = len(list(set(stream)))\n",
    "        err_ks_LL = [card] + [1] * len(ks)\n",
    "        err_ks_HLL = [card] + [1] * len(ks)\n",
    "        err_ks_FM = [card] + [1] * len(ks)\n",
    "\n",
    "        for i in range(len(ks)):\n",
    "            card_est = estimate_cardinality_LL(stream,ks[i])   #steams[j]\n",
    "            err_ks_LL[i+1] = abs(card_est - card) / card #card[j]\n",
    "        \n",
    "            card_est = estimate_cardinality_HLL(stream,ks[i]) #steams[j]\n",
    "            err_ks_HLL[i+1] = abs(card_est - card) / card #card[j]\n",
    "            \n",
    "            card_est = estimate_cardinality_FM(stream,ks[i]) #steams[j]\n",
    "            err_ks_FM[i+1] = abs(card_est - card) / card #card[j]\n",
    "    \n",
    "        \n",
    "        errors_LL.append(err_ks_LL)\n",
    "        errors_HLL.append(err_ks_HLL)\n",
    "        errors_FM.append(err_ks_FM)\n",
    "    LL = LL + errors_LL\n",
    "    HLL = HLL + errors_HLL\n",
    "    FM = FM + errors_FM\n",
    "\n",
    "import csv\n",
    "with open('HLL_data3.csv', 'w') as csvfile:\n",
    "    writer = csv.writer(csvfile)\n",
    "    writer.writerows(HLL)\n",
    "with open('LL_data3.csv', 'w') as csvfile:\n",
    "    writer = csv.writer(csvfile)\n",
    "    writer.writerows(LL)\n",
    "with open('FM_data3.csv', 'w') as csvfile:\n",
    "    writer = csv.writer(csvfile)\n",
    "    writer.writerows(FM)\n"
   ]
  },
  {
   "cell_type": "code",
   "execution_count": 36,
   "metadata": {},
   "outputs": [
    {
     "data": {
      "text/plain": [
       "6"
      ]
     },
     "execution_count": 36,
     "metadata": {},
     "output_type": "execute_result"
    }
   ],
   "source": [
    "j"
   ]
  }
 ],
 "metadata": {
  "kernelspec": {
   "display_name": "Python 3",
   "language": "python",
   "name": "python3"
  },
  "language_info": {
   "codemirror_mode": {
    "name": "ipython",
    "version": 3
   },
   "file_extension": ".py",
   "mimetype": "text/x-python",
   "name": "python",
   "nbconvert_exporter": "python",
   "pygments_lexer": "ipython3",
   "version": "3.6.5"
  }
 },
 "nbformat": 4,
 "nbformat_minor": 2
}
