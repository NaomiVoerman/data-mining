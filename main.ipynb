{
 "cells": [
  {
   "cell_type": "code",
   "execution_count": 1,
   "metadata": {},
   "outputs": [],
   "source": [
    "import numpy as np\n",
    "import scipy.sparse as sc\n",
    "\n",
    "\n",
    "user_movie = np.load(\"F:/Stack/Studie/Leiden/Advances in Data Mining/Assignment 3/user_movie/user_movie.npy\")"
   ]
  },
  {
   "cell_type": "code",
   "execution_count": 35,
   "metadata": {},
   "outputs": [],
   "source": [
    "\n",
    "Sparse_MU = sc.csc_matrix((np.ones(user_movie.shape[0]),(user_movie[:,1],user_movie[:,0]) ))\n"
   ]
  },
  {
   "cell_type": "code",
   "execution_count": 24,
   "metadata": {},
   "outputs": [],
   "source": [
    "I = 80\n",
    "M = np.ones((I,Sparse_MU.shape[1]))*np.Inf\n",
    "list_permutations = [np.random.permutation(Sparse_MU.shape[0]) for i in np.arange(I)]"
   ]
  },
  {
   "cell_type": "code",
   "execution_count": 6,
   "metadata": {},
   "outputs": [
    {
     "data": {
      "text/plain": [
       "1.0"
      ]
     },
     "execution_count": 6,
     "metadata": {},
     "output_type": "execute_result"
    }
   ],
   "source": [
    "Sparse_MU[0,:][0,94]#.nonzero()"
   ]
  },
  {
   "cell_type": "code",
   "execution_count": null,
   "metadata": {},
   "outputs": [],
   "source": [
    "# #for rowN in np.arange(Sparse_MU.shape[0]):\n",
    "# for colN in np.arange(Sparse_MU.shape[1]):\n",
    "#      for i in np.arange(I):\n",
    "                        \n",
    "#         coor_vec = sc.find(Sparse_MU[list_permutations[i],colN])[0]\n",
    "#         if len(coor_vec) != 0: \n",
    "#              M[i,colN] = min(M[i,colN],coor_vec[0])\n",
    "                        \n"
   ]
  },
  {
   "cell_type": "code",
   "execution_count": 34,
   "metadata": {},
   "outputs": [],
   "source": [
    "# for rowN in np.arange(1):#Sparse_MU.shape[0]):\n",
    "#     print(rowN)\n",
    "#     for i in np.arange(I):\n",
    "#         print(i)\n",
    "    \n",
    "#         ind_nonzero = Sparse_MU[list_permutations[i],:][rowN,:].nonzero()[1] #Sparse_MU[list_permutations[i],:][rowN,:].toarray()#swap loops?, with or without sc.find\n",
    "#         #if len(ind_nonzero) != 0: #Should not be possible, alls movies have at least 1 like\n",
    "#         M[i,ind_nonzero] = np.minimum(M[i,ind_nonzero],rowN+1)\n",
    "                        "
   ]
  },
  {
   "cell_type": "code",
   "execution_count": 14,
   "metadata": {},
   "outputs": [],
   "source": [
    "a=np.array([1,2,3,5,6])"
   ]
  },
  {
   "cell_type": "code",
   "execution_count": 36,
   "metadata": {},
   "outputs": [
    {
     "name": "stdout",
     "output_type": "stream",
     "text": [
      "128.44816970825195\n"
     ]
    }
   ],
   "source": [
    "import time\n",
    "start = time.time()\n",
    "for i in np.arange(I):\n",
    "    Sparse_temp = Sparse_MU[list_permutations[i],:]\n",
    "    \n",
    "    for rowN in np.arange(Sparse_MU.shape[0]): #np.arange(1):\n",
    "        \n",
    "        ind_nonzero = Sparse_temp[rowN,:].nonzero()[1]\n",
    "        M[i,ind_nonzero] = np.minimum(M[i,ind_nonzero],rowN+1)\n",
    "        \n",
    "        if sum(M[i,:]) < np.Inf: break\n",
    "end = time.time()\n",
    "print(end - start)\n",
    "                        "
   ]
  },
  {
   "cell_type": "code",
   "execution_count": 32,
   "metadata": {},
   "outputs": [
    {
     "data": {
      "text/plain": [
       "array([[ 79.,  79.,  79., ..., 117.,  21.,  67.],\n",
       "       [ 19.,  19.,  34., ...,  19.,  47.,  55.],\n",
       "       [ 23.,  20.,  10., ...,  10.,  21.,  64.],\n",
       "       ...,\n",
       "       [ 14.,  19.,  19., ...,  39.,  18.,  39.],\n",
       "       [  6.,   6.,   2., ...,  12.,   1., 170.],\n",
       "       [ 12.,  73.,  15., ..., 103.,  75., 227.]])"
      ]
     },
     "execution_count": 32,
     "metadata": {},
     "output_type": "execute_result"
    }
   ],
   "source": [
    "M"
   ]
  },
  {
   "cell_type": "code",
   "execution_count": 33,
   "metadata": {},
   "outputs": [
    {
     "data": {
      "text/plain": [
       "(80, 103703)"
      ]
     },
     "execution_count": 33,
     "metadata": {},
     "output_type": "execute_result"
    }
   ],
   "source": [
    "M.shape"
   ]
  },
  {
   "cell_type": "code",
   "execution_count": 22,
   "metadata": {},
   "outputs": [
    {
     "data": {
      "text/plain": [
       "array([1, 2, 2, 3, 3])"
      ]
     },
     "execution_count": 22,
     "metadata": {},
     "output_type": "execute_result"
    }
   ],
   "source": []
  }
 ],
 "metadata": {
  "kernelspec": {
   "display_name": "Python 3",
   "language": "python",
   "name": "python3"
  },
  "language_info": {
   "codemirror_mode": {
    "name": "ipython",
    "version": 3
   },
   "file_extension": ".py",
   "mimetype": "text/x-python",
   "name": "python",
   "nbconvert_exporter": "python",
   "pygments_lexer": "ipython3",
   "version": "3.6.5"
  }
 },
 "nbformat": 4,
 "nbformat_minor": 2
}
