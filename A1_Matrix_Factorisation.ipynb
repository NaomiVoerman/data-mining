{
 "cells": [
  {
   "cell_type": "code",
   "execution_count": 62,
   "metadata": {
    "scrolled": true
   },
   "outputs": [
    {
     "name": "stderr",
     "output_type": "stream",
     "text": [
      "c:\\users\\koen\\appdata\\local\\programs\\python\\python36\\lib\\site-packages\\ipykernel_launcher.py:6: ParserWarning: Falling back to the 'python' engine because the 'c' engine does not support regex separators (separators > 1 char and different from '\\s+' are interpreted as regex); you can avoid this warning by specifying engine='python'.\n",
      "  \n"
     ]
    }
   ],
   "source": [
    "import pandas as pd\n",
    "import numpy as np\n",
    "\n",
    "#Loading data\n",
    "# movies = pd.read_csv(\"../data/ml-1m/movies.dat\", sep=\"::\", header = None)\n",
    "ratings = pd.read_csv(\"../data/ml-1m/ratings.dat\", sep=\"::\", header = None)\n",
    "# users = pd.read_csv(\"../data/ml-1m/users.dat\", sep=\"::\", header = None)\n",
    "\n",
    "#col names\n",
    "# movies.columns = [\"MovieID\",\"MovieTitle\",\"Genre\"]\n",
    "ratings.columns = [\"UserID\",\"MovieID\",\"Rating\",\"TimeStamp\"]\n",
    "# users.columns = [\"UserID\",\"Sex\",\"AgeGroup\",\"OccupationGroup\",\"ZipCode\"]\n",
    "\n",
    "#setseed\n",
    "np.random.seed(348)\n",
    "\n"
   ]
  },
  {
   "cell_type": "code",
   "execution_count": 215,
   "metadata": {
    "scrolled": true
   },
   "outputs": [],
   "source": [
    "def train_MF(ratings, N):\n",
    "    \n",
    "    num_factors=10 #\n",
    "    #num_iter= 75\n",
    "    Lambda = 0.05 #regularization\n",
    "    eta =0.005 #learning rate\n",
    "\n",
    "    # initialize U and M\n",
    "    U_rows = ratings[\"UserID\"].unique() \n",
    "    M_cols = ratings[\"MovieID\"].unique()\n",
    "    U = np.random.rand(len(U_rows), num_factors)\n",
    "    M = np.random.rand(num_factors, len(M_cols) )\n",
    "\n",
    "\n",
    "    num_iter = N\n",
    "    num_elem = ratings.shape[0]\n",
    "\n",
    "    RMSE = np.zeros(num_iter)\n",
    "    MAE = np.zeros(num_iter)\n",
    "\n",
    "    for i in range(num_iter):\n",
    "        SE = 0; AE = 0\n",
    "        print(\"\\nIteration\", i+1)\n",
    "        for j in range(num_elem):\n",
    "\n",
    "            #time consuming? initalize proper index matrix (j*2)?\n",
    "            ind_i = np.where(U_rows == ratings.UserID.iloc[j])[0]\n",
    "            ind_j = np.where(M_cols == ratings.MovieID.iloc[j])[0]\n",
    "\n",
    "            x_hat = np.dot(U[ind_i,:],M[:,ind_j])\n",
    "            eij = ratings.Rating.iloc[j] - x_hat\n",
    "            SE = SE + (eij)**2\n",
    "            AE = AE + abs(eij)\n",
    "\n",
    "            #Update with gradients:\n",
    "            U[ind_i,:] = U[ind_i,:] + eta * (2 * eij * np.transpose(M[:,ind_j]) - Lambda * U[ind_i,:])\n",
    "            M[:,ind_j] = M[:,ind_j] + eta * (2 * eij * np.transpose(U[ind_i,:]) - Lambda * M[:,ind_j])\n",
    "\n",
    "            if j % 200000 == 0:\n",
    "                print(\"element number:\",j)\n",
    "\n",
    "        RMSE[i] = np.sqrt(SE/num_elem)\n",
    "        MAE[i] = AE / num_elem\n",
    "        print(\"RMSE =\", RMSE[i])\n",
    "    \n",
    "    return(U, M, RMSE, MAE)\n",
    "\n",
    "#train_MF(ratings,10)\n",
    "\n"
   ]
  },
  {
   "cell_type": "code",
   "execution_count": null,
   "metadata": {},
   "outputs": [
    {
     "name": "stdout",
     "output_type": "stream",
     "text": [
      "\n",
      "FOLD: 1\n",
      "Training on trainset....\n",
      "\n",
      "Iteration 1\n",
      "element number: 0\n",
      "element number: 200000\n",
      "element number: 400000\n",
      "element number: 600000\n",
      "element number: 800000\n",
      "RMSE = 0.9921565265997783\n",
      "\n",
      "Iteration 2\n",
      "element number: 0\n",
      "element number: 200000\n",
      "element number: 400000\n",
      "element number: 600000\n",
      "element number: 800000\n",
      "RMSE = 0.9275080586353525\n",
      "\n",
      "Iteration 3\n",
      "element number: 0\n",
      "element number: 200000\n",
      "element number: 400000\n",
      "element number: 600000\n",
      "element number: 800000\n",
      "RMSE = 0.9167367105803903\n",
      "\n",
      "Iteration 4\n",
      "element number: 0\n"
     ]
    }
   ],
   "source": [
    "import time\n",
    "Tstart = time.time()\n",
    "\n",
    "#Cross validation:\n",
    "Nfolds = 5\n",
    "No_train_iter = 75\n",
    "\n",
    "#Create folds grouping vector\n",
    "Nrep = ratings.shape[0] // Nfolds\n",
    "a = np.repeat(np.arange(Nfolds),Nrep)\n",
    "b = np.arange(ratings.shape[0] % Nfolds)\n",
    "folds_vec = np.concatenate([a,b])\n",
    "np.random.shuffle(folds_vec)\n",
    "\n",
    "RMSE_train = np.zeros(Nfolds)\n",
    "RMSE_test = np.zeros(Nfolds)\n",
    "MAE_train = np.zeros(Nfolds)\n",
    "MAE_test = np.zeros(Nfolds)\n",
    "\n",
    "for k in range(Nfold):\n",
    "    print(\"\\nFOLD:\",k+1)\n",
    "    \n",
    "    ind_test = folds_vec == k\n",
    "    ind_train = ~ ind_test\n",
    "    \n",
    "    rat_train = ratings[ind_train]\n",
    "    rat_test = ratings[ind_test]\n",
    "    \n",
    "    print(\"Training on trainset....\")\n",
    "    U_train, M_train, RMSE, MAE = train_MF(rat_train, No_train_iter)\n",
    "    U_rows = rat_train[\"UserID\"].unique() \n",
    "    M_cols = rat_test[\"MovieID\"].unique()\n",
    "    \n",
    "    RMSE_train[k] = RMSE[-1]\n",
    "    MAE_train[k] = MAE[-1]\n",
    "    \n",
    "    print(\"Predicting on testset....\")\n",
    "    #fallback\n",
    "    u_mean = U_train.mean(0)\n",
    "    m_mean = M_train.mean(1)\n",
    "    \n",
    "    no_elem = len(rat_test.Rating)\n",
    "    SE = 0\n",
    "    AE = 0\n",
    "    for j in range(no_elem):\n",
    "        m_col = np.where(M_cols == rat_test.MovieID.iloc[j])[0]\n",
    "        if np.any(m_col):\n",
    "            m = M_train[:,m_col]\n",
    "        else:\n",
    "            m = m_mean\n",
    "        \n",
    "        u_row = np.where(U_rows == rat_test.UserID.iloc[j])[0]\n",
    "        if np.any(m_col):\n",
    "            u = U_train[u_row,:]\n",
    "        else:\n",
    "            u = u_mean\n",
    "            \n",
    "        x_hat = np.dot(u,m)\n",
    "        eij = rat_test.Rating.iloc[j] - x_hat\n",
    "        SE = SE + eij**2\n",
    "        AE = AE + abs(eij)\n",
    "        \n",
    "    RMSE_test[k]  = np.sqrt(SE/no_elem)\n",
    "    MAE_test[k] = AE / no_elem\n",
    "    print(\"RMSE_test =\", RMSE_test[k])\n",
    "    \n",
    "Tend = time.time()\n"
   ]
  },
  {
   "cell_type": "code",
   "execution_count": 228,
   "metadata": {},
   "outputs": [
    {
     "data": {
      "text/plain": [
       "array([0.92693911, 0.92725496, 0.92735713, 0.9277491 , 0.92765074])"
      ]
     },
     "execution_count": 228,
     "metadata": {},
     "output_type": "execute_result"
    }
   ],
   "source": [
    "RMSE_train\n"
   ]
  },
  {
   "cell_type": "code",
   "execution_count": 229,
   "metadata": {},
   "outputs": [
    {
     "data": {
      "text/plain": [
       "array([1.1837054 , 1.19482525, 1.17803456, 1.19168615, 1.18482961])"
      ]
     },
     "execution_count": 229,
     "metadata": {},
     "output_type": "execute_result"
    }
   ],
   "source": [
    "RMSE_test"
   ]
  },
  {
   "cell_type": "code",
   "execution_count": 230,
   "metadata": {},
   "outputs": [
    {
     "data": {
      "text/plain": [
       "array([0.73441799, 0.73470985, 0.73486473, 0.7351572 , 0.73475603])"
      ]
     },
     "execution_count": 230,
     "metadata": {},
     "output_type": "execute_result"
    }
   ],
   "source": [
    "MAE_train"
   ]
  },
  {
   "cell_type": "code",
   "execution_count": 231,
   "metadata": {},
   "outputs": [
    {
     "data": {
      "text/plain": [
       "array([0.95441569, 0.96322753, 0.94823755, 0.95958111, 0.952733  ])"
      ]
     },
     "execution_count": 231,
     "metadata": {},
     "output_type": "execute_result"
    }
   ],
   "source": [
    "MAE_test"
   ]
  }
 ],
 "metadata": {
  "kernelspec": {
   "display_name": "Python 3",
   "language": "python",
   "name": "python3"
  },
  "language_info": {
   "codemirror_mode": {
    "name": "ipython",
    "version": 3
   },
   "file_extension": ".py",
   "mimetype": "text/x-python",
   "name": "python",
   "nbconvert_exporter": "python",
   "pygments_lexer": "ipython3",
   "version": "3.6.5"
  }
 },
 "nbformat": 4,
 "nbformat_minor": 2
}
