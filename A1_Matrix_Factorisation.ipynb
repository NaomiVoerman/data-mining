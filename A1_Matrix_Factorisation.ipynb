{
 "cells": [
  {
   "cell_type": "code",
   "execution_count": 8,
   "metadata": {
    "scrolled": true
   },
   "outputs": [
    {
     "name": "stderr",
     "output_type": "stream",
     "text": [
      "c:\\users\\koen\\appdata\\local\\programs\\python\\python36\\lib\\site-packages\\ipykernel_launcher.py:5: ParserWarning: Falling back to the 'python' engine because the 'c' engine does not support regex separators (separators > 1 char and different from '\\s+' are interpreted as regex); you can avoid this warning by specifying engine='python'.\n",
      "  \"\"\"\n",
      "c:\\users\\koen\\appdata\\local\\programs\\python\\python36\\lib\\site-packages\\ipykernel_launcher.py:6: ParserWarning: Falling back to the 'python' engine because the 'c' engine does not support regex separators (separators > 1 char and different from '\\s+' are interpreted as regex); you can avoid this warning by specifying engine='python'.\n",
      "  \n",
      "c:\\users\\koen\\appdata\\local\\programs\\python\\python36\\lib\\site-packages\\ipykernel_launcher.py:7: ParserWarning: Falling back to the 'python' engine because the 'c' engine does not support regex separators (separators > 1 char and different from '\\s+' are interpreted as regex); you can avoid this warning by specifying engine='python'.\n",
      "  import sys\n"
     ]
    }
   ],
   "source": [
    "import pandas as pd\n",
    "import numpy as np\n",
    "\n",
    "#Loading data\n",
    "# movies = pd.read_csv(\"../data/ml-1m/movies.dat\", sep=\"::\", header = None)\n",
    "ratings = pd.read_csv(\"../data/ml-1m/ratings.dat\", sep=\"::\", header = None)\n",
    "# users = pd.read_csv(\"../data/ml-1m/users.dat\", sep=\"::\", header = None)\n",
    "\n",
    "#col names\n",
    "# movies.columns = [\"MovieID\",\"MovieTitle\",\"Genre\"]\n",
    "ratings.columns = [\"UserID\",\"MovieID\",\"Rating\",\"TimeStamp\"]\n",
    "# users.columns = [\"UserID\",\"Sex\",\"AgeGroup\",\"OccupationGroup\",\"ZipCode\"]\n",
    "\n",
    "\n"
   ]
  },
  {
   "cell_type": "code",
   "execution_count": null,
   "metadata": {},
   "outputs": [],
   "source": [
    "num_factors=10 #K\n",
    "num_iter= 75\n",
    "Lambda = 0.05 #regularization\n",
    "eta =0.005 #learning rate\n",
    "\n",
    "# initialize U and M\n",
    "M_cols = ratings[\"UserID\"].unique() \n",
    "U_rows = ratings[\"MovieID\"].unique()\n",
    "U = np.random.rand(len(U_rows), num_factors)\n",
    "M = np.random.rand(num_factors, len(M_cols) )\n",
    "\n",
    "\n",
    "num_iter=1\n",
    "num_rat = ratings.shape[0]\n",
    "\n",
    "RMSE = np.zeros(num_iter)\n",
    "\n",
    "for i in range(num_iter):\n",
    "    SE = 0\n",
    "    for j in range(num_rat):\n",
    "        \n",
    "        #time consuming? initalize proper index matrix (j*2)?\n",
    "        ind_i = np.where(U_rows == ratings.UserID[j]) \n",
    "        ind_j = np.where(M_cols == ratings.MovieID[j])\n",
    "        \n",
    "        x_hat = sum(U[ind_i,:]*M[:,ind_j])\n",
    "        eij = ratings.Rating[j] - x_hat\n",
    "        SE = SE + (eij)**2 / num_rat\n",
    "        \n",
    "        #Update with gradients:\n",
    "#         de_du2 = -2* eij * U[ind_i,:]\n",
    "#         de_dm2 = -2* eij * U[ind_i,:]\n",
    "        U[ind_i,:] = U[ind_i,:] + eta * (2 * eij * M[:,ind_j] - Lambda * U[ind_i,:])\n",
    "        M[:,ind_j] = M[:,ind_j] + eta * (2 * eij * U[ind_i,:] - Lambda * M[:,ind_j])\n",
    "\n",
    "        \n",
    "    RMSE[i] = np.sqrt(SE)\n",
    "RMSE\n",
    "        \n",
    "        "
   ]
  }
 ],
 "metadata": {
  "kernelspec": {
   "display_name": "Python 3",
   "language": "python",
   "name": "python3"
  },
  "language_info": {
   "codemirror_mode": {
    "name": "ipython",
    "version": 3
   },
   "file_extension": ".py",
   "mimetype": "text/x-python",
   "name": "python",
   "nbconvert_exporter": "python",
   "pygments_lexer": "ipython3",
   "version": "3.6.5"
  }
 },
 "nbformat": 4,
 "nbformat_minor": 2
}
